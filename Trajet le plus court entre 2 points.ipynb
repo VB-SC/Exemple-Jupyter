{
 "cells": [
  {
   "cell_type": "markdown",
   "metadata": {},
   "source": [
    "Ceci est un exemple d'implémentation de coordonnées sphériques\n",
    "coord cart (x,y,z)\n",
    "coord sphé (r,théta,phi)"
   ]
  },
  {
   "cell_type": "markdown",
   "metadata": {},
   "source": [
    "### 1 - Importation des bibliothèques de fonctions nécessaires.\n",
    "</br>\n",
    "</br>\n",
    "<p>Pour utiliser les fonctions mathématiques, \n",
    "    nous utiliserons la bibliotheque math (cf. https://docs.python.org/3/library/math.html).</p>\n",
    "<p>Pour utiliser les fonctions de traçage,\n",
    "    nous uiliserons la bibliothèque matplotlib (cf. https://matplotlib.org/).</p>"
   ]
  },
  {
   "cell_type": "code",
   "execution_count": 41,
   "metadata": {},
   "outputs": [],
   "source": [
    "from math import cos, sin, acos, pi\n",
    "import matplotlib.pyplot as plt"
   ]
  },
  {
   "cell_type": "markdown",
   "metadata": {},
   "source": [
    "### 2 - Définition de la classe d'objet Point_Coordonnees_Geographiques_3D\n",
    "</br>\n",
    "<p> Dans cet exemple, il est proposé de construire une classe d'objet : Point_Coordonnees_Geographiques_3D.</p>\n",
    "<p>L'objectif étant de calculer la distance entre 2 points M1 et M2, il sera donc créer 2 points de classe Point_Coordonnees_Geographiques_3D.</p>\n",
    "<P>Et non pas, $2*3=6$ variables pour gérer les coordonnées des 2 points M1 et M2.</p></br>\n",
    "<img src=\"latt_long.png\">\n",
    "<p>L'altitude n'intervenant pas dans nos modèles de calcul de trajets. Les points seront donc de la forme (lattitude,longitude,0).</p>\n"
   ]
  },
  {
   "cell_type": "code",
   "execution_count": 42,
   "metadata": {},
   "outputs": [],
   "source": [
    "class Point_Coordonnees_Geographiques_3D:\n",
    "    \"Utilisation du constructeur init pour intialiser le point au coordonnées (0;0;0).\"\n",
    "    def __init__(self):\n",
    "        \"Crée le point (latt=0,long=0,alt=0).\"\n",
    "        self.latt=0\n",
    "        self.long=0\n",
    "        self.alt=0"
   ]
  },
  {
   "cell_type": "markdown",
   "metadata": {},
   "source": [
    "### 3 - Définition des coordonnées géographiques des points M1 & M2\n",
    "</br>\n",
    "<p>Il suffit juste de remplir les points M1 et M2 de classe Point_Coordonnees_Geographiques_3D.</p>"
   ]
  },
  {
   "cell_type": "code",
   "execution_count": 43,
   "metadata": {},
   "outputs": [
    {
     "name": "stdout",
     "output_type": "stream",
     "text": [
      "M1 : lattitude =  0 ° ,longitude =  0 ° ,altitude =  0 m\n",
      "M2 : lattitude =  0 ° ,longitude =  0 ° ,altitude =  0 m\n",
      "\n",
      "Après saisie des coordonnées\n",
      "M1 : lattitude =  50 ° ,longitude =  70 ° ,altitude =  0 m\n",
      "M2 : lattitude =  50 ° ,longitude =  -20 ° ,altitude =  0 m\n"
     ]
    }
   ],
   "source": [
    "\"Création des points M1 et M2, de classe Point_Coordonnees_Geographiques\"\n",
    "M1=Point_Coordonnees_Geographiques_3D()\n",
    "M2=Point_Coordonnees_Geographiques_3D()\n",
    "\n",
    "\"Affichage des points initialisés par le constructeur _init_ lors de la définition de classe\"\n",
    "print(\"M1 : lattitude = \",M1.latt,\"° ,longitude = \",M1.long,\"° ,altitude = \",M1.alt,\"m\")\n",
    "print(\"M2 : lattitude = \",M2.latt,\"° ,longitude = \",M2.long,\"° ,altitude = \",M2.alt,\"m\")\n",
    "\n",
    "\n",
    "\"Définition des coordonnées géographiques des points M1 et M2 en degrés décimaux.\"\n",
    "M1.latt=50\n",
    "M1.long=70\n",
    "M2.latt=50\n",
    "M2.long=-20\n",
    "\n",
    "\"Affichage des points avec leurs nouvelles coordonnées.\"\n",
    "print()\n",
    "print(\"Après saisie des coordonnées\")\n",
    "print(\"M1 : lattitude = \",M1.latt,\"° ,longitude = \",M1.long,\"° ,altitude = \",M1.alt,\"m\")\n",
    "print(\"M2 : lattitude = \",M2.latt,\"° ,longitude = \",M2.long,\"° ,altitude = \",M2.alt,\"m\")"
   ]
  },
  {
   "cell_type": "markdown",
   "metadata": {},
   "source": [
    "### 4 - Transformation des coordonnées des points de degré en radian\n",
    "</br>\n",
    "<p>Pour ce faire, nous créerons une fonction Conv_Deg_Rad pour convertir l'angle en degré AngDeg (paramètre d'entrée) en angle en radian AngRad (paramètre de sortie).</p>\n",
    "$$AngRad=\\frac{AngDeg}{360}*2\\pi$$\n",
    "</br>\n",
    "<p> Dans cet exemple, $\\pi=3.1416$ pour assurer la lisibilité du code. Il aurait aussi été possible d'utiliser la définition de $\\pi$ dans la bibliothèque math appelé en début de séquence math.pi. De plus, dans cette même bibliothèque, il existe évidemment une fonction permettant de convertir des degrés en radians math.radians() et vice-versa math.degrees()."
   ]
  },
  {
   "cell_type": "code",
   "execution_count": 44,
   "metadata": {},
   "outputs": [],
   "source": [
    "def Conv_Deg_Rad(AngDeg):\n",
    "    \"\"\"Convertit un angle en \"degré décimaux\" en \"radians\"\"\"\n",
    "    AngRad=AngDeg/360*2*3.1416\n",
    "    return AngRad"
   ]
  },
  {
   "cell_type": "markdown",
   "metadata": {},
   "source": [
    "<p>Il ne reste plus alors qu'à modifier les coordonnées de chaque point, sauf sur l'altitude évidemment."
   ]
  },
  {
   "cell_type": "code",
   "execution_count": 45,
   "metadata": {},
   "outputs": [
    {
     "name": "stdout",
     "output_type": "stream",
     "text": [
      "\n",
      "Après saisie des coordonnées\n",
      "\n",
      "M1 : lattitude =  0.8727 rad ,longitude =  1.2217 rad\n",
      "M2 : lattitude =  0.8727 rad ,longitude =  -0.3491 rad\n"
     ]
    }
   ],
   "source": [
    "M1.latt=round(Conv_Deg_Rad(M1.latt),4)\n",
    "M1.long=round(Conv_Deg_Rad(M1.long),4)\n",
    "M2.latt=round(Conv_Deg_Rad(M2.latt),4)\n",
    "M2.long=round(Conv_Deg_Rad(M2.long),4)\n",
    "\n",
    "\"Affichage des points avec leurs nouvelles coordonnées en radian.\"\n",
    "print()\n",
    "print(\"Après saisie des coordonnées\")\n",
    "print()\n",
    "print(\"M1 : lattitude = \",M1.latt,\"rad ,longitude = \",M1.long,\"rad\")\n",
    "print(\"M2 : lattitude = \",M2.latt,\"rad ,longitude = \",M2.long,\"rad\")"
   ]
  },
  {
   "cell_type": "markdown",
   "metadata": {},
   "source": [
    "### 5 - Calcul de la distance selon un trajet le long du \"Grand Cercle\" associés aux 2 points (orthodromie).\n",
    "</br>\n",
    "<p> Comme vu précédemment dans la résolution analytique du problème, nous utiliserons la formule ci-dessous pour évaluer la longueur de l'arc de Grand Cercle séparant nos deux points de coordonnées.</p></br>\n",
    "$$\\alpha=\\arccos(\\cos(\\phi 1)\\cos(\\phi 2)\\cos(\\theta 1 - \\theta 2)+\\sin(\\phi 1)\\sin(\\phi 2))$$</br>\n",
    "<p> avec </p>\n",
    "<p>$\\phi 1$ : lattitude de M1 / $\\theta 1$ : longitude de M1 </p>\n",
    "<p>$\\phi 2$ : lattitude de M2 / $\\theta 2$ : longitude de M2 </p>\n",
    "</br>\n",
    "<p> Une fonction Long_Arc_Gd_Cercle est implémentée avec les lattitudes et longitudes des 2 points M1 et M2 en paramètres d'entrée. Cette fonction fournira en sortie la distance parcourue selon la formule d'arc suivante : </p>\n",
    "</br>\n",
    "$$L\\tiny dist \\normalsize = R \\tiny Terre \\normalsize * \\alpha$$"
   ]
  },
  {
   "cell_type": "code",
   "execution_count": 46,
   "metadata": {},
   "outputs": [],
   "source": [
    "def Long_Arc_Gd_Cercle(Phi1, Theta1, Phi2, Theta2):\n",
    "    Rayon_Terre = 6370\n",
    "    Alpha = acos(cos(Phi1)*cos(Phi2)*cos(abs(Theta1-Theta2)) + sin(Phi1)*sin(Phi2))\n",
    "    return Rayon_Terre*Alpha"
   ]
  },
  {
   "cell_type": "markdown",
   "metadata": {},
   "source": [
    "### 6 - Calcul de la distance selon un trajet le long du parrallèle commun aux 2 points (loxodromie).\n",
    "</br>\n",
    "<p> Comme vu précédemment dans la résolution analytique du problème, nous utiliserons la formule ci-dessous pour évaluer la longueur de l'arc du parallèle séparant nos deux points de coordonnées.</p></br>\n",
    "$$\\beta=(\\theta 1 - \\theta 2)$$</br>\n",
    "$$R \\tiny TerreParallele \\normalsize = sin(\\phi1)*R \\tiny Terre \\normalsize$$\n",
    "<p> avec </p>\n",
    "<p>$\\phi 1$ : lattitude de M1 / $\\phi 2$ : lattitude de M2 / $\\theta 1 = \\theta 2$ : longitude de M1 ou de M2 </p> \n",
    "</br>\n",
    "<p> Une fonction Long_Arc_Parallele est implémentée avec les lattitudes des 2 points M1 et M2 en paramètres d'entrée. Cette fonction fournira en sortie la distance parcourue selon la formule d'arc suivante : </p>\n",
    "</br>\n",
    "$$L\\tiny dist \\normalsize = R \\tiny TerreParallele \\normalsize * \\beta$$"
   ]
  },
  {
   "cell_type": "code",
   "execution_count": 51,
   "metadata": {},
   "outputs": [],
   "source": [
    "def Long_Arc_Parallele(Phi1, Theta1, Phi2, Theta2):\n",
    "    Rayon_Terre = 6370\n",
    "    Rayon_Terre_Parallele = cos(Phi1)*Rayon_Terre\n",
    "    Beta = abs(Theta1-Theta2)\n",
    "    return Rayon_Terre_Parallele*Beta"
   ]
  },
  {
   "cell_type": "code",
   "execution_count": 49,
   "metadata": {},
   "outputs": [
    {
     "name": "stdout",
     "output_type": "stream",
     "text": [
      "La distance entre les 2 points,le long du Grand Cercle associé, est de : 6010 km\n"
     ]
    }
   ],
   "source": [
    "Distance_Sln_Gd_Cercle = Long_Arc_Gd_Cercle(M1.latt, M1.long, M2.latt, M2.long)\n",
    "print(\"La distance entre les 2 points,le long du Grand Cercle associé, est de :\",int(Distance_Sln_Gd_Cercle),\"km\")"
   ]
  },
  {
   "cell_type": "code",
   "execution_count": 52,
   "metadata": {},
   "outputs": [
    {
     "name": "stdout",
     "output_type": "stream",
     "text": [
      "La distance entre les 2 points, le long du Parallèle associé aux 2 points est de : 6431 km\n"
     ]
    }
   ],
   "source": [
    "Distance_Sln_Parallele = Long_Arc_Parallele(M1.latt, M1.long, M2.latt, M2.long)\n",
    "print(\"La distance entre les 2 points, le long du Parallèle associé aux 2 points est de :\",int(Distance_Sln_Parallele),\"km\")"
   ]
  },
  {
   "cell_type": "code",
   "execution_count": 53,
   "metadata": {},
   "outputs": [
    {
     "ename": "ModuleNotFoundError",
     "evalue": "No module named 'cartopy'",
     "output_type": "error",
     "traceback": [
      "\u001b[1;31m---------------------------------------------------------------------------\u001b[0m",
      "\u001b[1;31mModuleNotFoundError\u001b[0m                       Traceback (most recent call last)",
      "\u001b[1;32m<ipython-input-53-85b3317c959e>\u001b[0m in \u001b[0;36m<module>\u001b[1;34m()\u001b[0m\n\u001b[1;32m----> 1\u001b[1;33m \u001b[1;32mimport\u001b[0m \u001b[0mcartopy\u001b[0m\u001b[1;33m.\u001b[0m\u001b[0mcrs\u001b[0m \u001b[1;32mas\u001b[0m \u001b[0mccrs\u001b[0m\u001b[1;33m\u001b[0m\u001b[0m\n\u001b[0m\u001b[0;32m      2\u001b[0m \u001b[1;32mimport\u001b[0m \u001b[0mmatplotlib\u001b[0m\u001b[1;33m.\u001b[0m\u001b[0mpyplot\u001b[0m \u001b[1;32mas\u001b[0m \u001b[0mplt\u001b[0m\u001b[1;33m\u001b[0m\u001b[0m\n\u001b[0;32m      3\u001b[0m \u001b[1;33m\u001b[0m\u001b[0m\n\u001b[0;32m      4\u001b[0m \u001b[0max\u001b[0m \u001b[1;33m=\u001b[0m \u001b[0mplt\u001b[0m\u001b[1;33m.\u001b[0m\u001b[0maxes\u001b[0m\u001b[1;33m(\u001b[0m\u001b[0mprojection\u001b[0m\u001b[1;33m=\u001b[0m\u001b[0mccrs\u001b[0m\u001b[1;33m.\u001b[0m\u001b[0mPlateCarree\u001b[0m\u001b[1;33m(\u001b[0m\u001b[1;33m)\u001b[0m\u001b[1;33m)\u001b[0m\u001b[1;33m\u001b[0m\u001b[0m\n\u001b[0;32m      5\u001b[0m \u001b[0max\u001b[0m\u001b[1;33m.\u001b[0m\u001b[0mstock_img\u001b[0m\u001b[1;33m(\u001b[0m\u001b[1;33m)\u001b[0m\u001b[1;33m\u001b[0m\u001b[0m\n",
      "\u001b[1;31mModuleNotFoundError\u001b[0m: No module named 'cartopy'"
     ]
    }
   ],
   "source": [
    "import cartopy.crs as ccrs\n",
    "import matplotlib.pyplot as plt\n",
    "\n",
    "ax = plt.axes(projection=ccrs.PlateCarree())\n",
    "ax.stock_img()\n",
    "\n",
    "ny_lon, ny_lat = -75, 43\n",
    "delhi_lon, delhi_lat = 77.23, 28.61\n",
    "\n",
    "plt.plot([ny_lon, delhi_lon], [ny_lat, delhi_lat],\n",
    "         color='blue', linewidth=2, marker='o',\n",
    "         transform=ccrs.Geodetic(),\n",
    "         )\n",
    "\n",
    "plt.plot([ny_lon, delhi_lon], [ny_lat, delhi_lat],\n",
    "         color='gray', linestyle='--',\n",
    "         transform=ccrs.PlateCarree(),\n",
    "         )\n",
    "\n",
    "plt.text(ny_lon - 3, ny_lat - 12, 'New York',\n",
    "         horizontalalignment='right',\n",
    "         transform=ccrs.Geodetic())\n",
    "\n",
    "plt.text(delhi_lon + 3, delhi_lat - 12, 'Delhi',\n",
    "         horizontalalignment='left',\n",
    "         transform=ccrs.Geodetic())\n",
    "\n",
    "plt.show()"
   ]
  }
 ],
 "metadata": {
  "kernelspec": {
   "display_name": "Python 3",
   "language": "python",
   "name": "python3"
  },
  "language_info": {
   "codemirror_mode": {
    "name": "ipython",
    "version": 3
   },
   "file_extension": ".py",
   "mimetype": "text/x-python",
   "name": "python",
   "nbconvert_exporter": "python",
   "pygments_lexer": "ipython3",
   "version": "3.7.0"
  }
 },
 "nbformat": 4,
 "nbformat_minor": 2
}
