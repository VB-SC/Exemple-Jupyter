{
 "cells": [
  {
   "cell_type": "markdown",
   "metadata": {},
   "source": [
    "# Bonjour à tous\n",
    "\n",
    "## Ceci est un exemple d'implémentation de Python en ETT STI2D. Il s'agissait pour les élèves de calculer le trajet le plus court entre 2 points d'un même parallèle. Evidemment cela n'a pas été réalisé ainsi. C'est juste une exemple pour vous. Les fonctions de traçage sur une carte en utilisant les bibliothèques matplotlib ou cartopy n'ont pas été encore implémentées."
   ]
  },
  {
   "cell_type": "markdown",
   "metadata": {},
   "source": [
    "### 1 - Importation des bibliothèques de fonctions nécessaires.\n",
    "</br>\n",
    "</br>\n",
    "<p>Pour utiliser les fonctions mathématiques, \n",
    "    nous utiliserons la bibliotheque math (cf. https://docs.python.org/3/library/math.html).</p>\n",
    "<p>Pour utiliser les fonctions de traçage,\n",
    "    nous uiliserons la bibliothèque matplotlib (cf. https://matplotlib.org/).</p>"
   ]
  },
  {
   "cell_type": "code",
   "execution_count": 101,
   "metadata": {},
   "outputs": [],
   "source": [
    "from math import cos, sin, acos, pi"
   ]
  },
  {
   "cell_type": "markdown",
   "metadata": {},
   "source": [
    "### 2 - Définition de la classe d'objet Point_Coordonnees_Geographiques_3D\n",
    "</br>\n",
    "<p> Dans cet exemple, il est proposé de construire une classe d'objet : Point_Coordonnees_Geographiques_3D.</p>\n",
    "<p>L'objectif étant de calculer la distance entre 2 points M1 et M2, il sera donc créer 2 points de classe Point_Coordonnees_Geographiques_3D.</p>\n",
    "<P>Et non pas, $2*3=6$ variables pour gérer les coordonnées des 2 points M1 et M2.</p></br>\n",
    "<img src=\"https://upload.wikimedia.org/wikipedia/commons/thumb/6/62/Latitude_and_Longitude_of_the_Earth.svg/320px-Latitude_and_Longitude_of_the_Earth.svg.png\">\n",
    "<p> L'altitude n'intervenant pas dans nos modèles de calcul de trajets. Les points seront donc de la forme (lattitude,longitude,0).</p>\n"
   ]
  },
  {
   "cell_type": "code",
   "execution_count": 102,
   "metadata": {},
   "outputs": [],
   "source": [
    "class Point_Coordonnees_Geographiques_3D:\n",
    "    \"Utilisation du constructeur init pour intialiser le point au coordonnées (0;0;0).\"\n",
    "    def __init__(self):\n",
    "        \"Crée le point (latt=0,long=0,alt=0).\"\n",
    "        self.latt=0\n",
    "        self.long=0\n",
    "        self.alt=0"
   ]
  },
  {
   "cell_type": "markdown",
   "metadata": {},
   "source": [
    "### 3 - Définition des coordonnées géographiques des points M1 & M2\n",
    "</br>\n",
    "<p>Il suffit juste de remplir les points M1 et M2 de classe Point_Coordonnees_Geographiques_3D.</p>"
   ]
  },
  {
   "cell_type": "code",
   "execution_count": 103,
   "metadata": {},
   "outputs": [
    {
     "name": "stdout",
     "output_type": "stream",
     "text": [
      "M1 : lattitude =  0 ° ,longitude =  0 ° ,altitude =  0 m\n",
      "M2 : lattitude =  0 ° ,longitude =  0 ° ,altitude =  0 m\n",
      "\n",
      "Après saisie des coordonnées\n",
      "M1 : lattitude =  50 ° ,longitude =  70 ° ,altitude =  0 m\n",
      "M2 : lattitude =  50 ° ,longitude =  -20 ° ,altitude =  0 m\n"
     ]
    }
   ],
   "source": [
    "\"Création des points M1 et M2, de classe Point_Coordonnees_Geographiques\"\n",
    "M1=Point_Coordonnees_Geographiques_3D()\n",
    "M2=Point_Coordonnees_Geographiques_3D()\n",
    "\n",
    "\"Affichage des points initialisés par le constructeur _init_ lors de la définition de classe\"\n",
    "print(\"M1 : lattitude = \",M1.latt,\"° ,longitude = \",M1.long,\"° ,altitude = \",M1.alt,\"m\")\n",
    "print(\"M2 : lattitude = \",M2.latt,\"° ,longitude = \",M2.long,\"° ,altitude = \",M2.alt,\"m\")\n",
    "\n",
    "\n",
    "\"Définition des coordonnées géographiques des points M1 et M2 en degrés décimaux.\"\n",
    "M1.latt=50\n",
    "M1.long=70\n",
    "M2.latt=50\n",
    "M2.long=-20\n",
    "\n",
    "\"Affichage des points avec leurs nouvelles coordonnées.\"\n",
    "print()\n",
    "print(\"Après saisie des coordonnées\")\n",
    "print(\"M1 : lattitude = \",M1.latt,\"° ,longitude = \",M1.long,\"° ,altitude = \",M1.alt,\"m\")\n",
    "print(\"M2 : lattitude = \",M2.latt,\"° ,longitude = \",M2.long,\"° ,altitude = \",M2.alt,\"m\")"
   ]
  },
  {
   "cell_type": "markdown",
   "metadata": {},
   "source": [
    "### 4 - Transformation des coordonnées des points de degré en radian\n",
    "</br>\n",
    "<p>Pour ce faire, nous créerons une fonction Conv_Deg_Rad pour convertir l'angle en degré AngDeg (paramètre d'entrée) en angle en radian AngRad (paramètre de sortie).</p>\n",
    "$$AngRad=\\frac{AngDeg}{360}*2\\pi$$\n",
    "</br>\n",
    "<p> Dans cet exemple, $\\pi=3.1416$ pour assurer la lisibilité du code. Il aurait aussi été possible d'utiliser la définition de $\\pi$ dans la bibliothèque math appelé en début de séquence math.pi. De plus, dans cette même bibliothèque, il existe évidemment une fonction permettant de convertir des degrés en radians math.radians() et vice-versa math.degrees()."
   ]
  },
  {
   "cell_type": "code",
   "execution_count": 104,
   "metadata": {},
   "outputs": [],
   "source": [
    "def Conv_Deg_Rad(AngDeg):\n",
    "    \"\"\"Convertit un angle en \"degré décimaux\" en \"radians\"\"\"\n",
    "    AngRad=AngDeg/360*2*3.1416\n",
    "    return AngRad"
   ]
  },
  {
   "cell_type": "markdown",
   "metadata": {},
   "source": [
    "<p>Il ne reste plus alors qu'à modifier les coordonnées de chaque point, sauf sur l'altitude évidemment."
   ]
  },
  {
   "cell_type": "code",
   "execution_count": 105,
   "metadata": {},
   "outputs": [
    {
     "name": "stdout",
     "output_type": "stream",
     "text": [
      "\n",
      "Après saisie des coordonnées\n",
      "\n",
      "M1 : lattitude =  0.8727 rad ,longitude =  1.2217 rad\n",
      "M2 : lattitude =  0.8727 rad ,longitude =  -0.3491 rad\n"
     ]
    }
   ],
   "source": [
    "\n",
    "M1.latt=round(Conv_Deg_Rad(M1.latt),4)\n",
    "M1.long=round(Conv_Deg_Rad(M1.long),4)\n",
    "M2.latt=round(Conv_Deg_Rad(M2.latt),4)\n",
    "M2.long=round(Conv_Deg_Rad(M2.long),4)\n",
    "\n",
    "\"Affichage des points avec leurs nouvelles coordonnées en radian.\"\n",
    "print()\n",
    "print(\"Après saisie des coordonnées\")\n",
    "print()\n",
    "print(\"M1 : lattitude = \",M1.latt,\"rad ,longitude = \",M1.long,\"rad\")\n",
    "print(\"M2 : lattitude = \",M2.latt,\"rad ,longitude = \",M2.long,\"rad\")"
   ]
  },
  {
   "cell_type": "markdown",
   "metadata": {},
   "source": [
    "### 5 - Calcul de la distance selon un trajet le long du \"Grand Cercle\" associés aux 2 points (orthodromie).\n",
    "</br>\n",
    "<p> Comme vu précédemment dans la résolution analytique du problème, nous utiliserons la formule ci-dessous pour évaluer la longueur de l'arc de Grand Cercle séparant nos deux points de coordonnées.</p></br>\n",
    "$$\\alpha=\\arccos(\\cos(\\phi 1)\\cos(\\phi 2)\\cos(\\theta 1 - \\theta 2)+\\sin(\\phi 1)\\sin(\\phi 2))$$</br>\n",
    "<p> avec </p>\n",
    "<p>$\\phi 1$ : lattitude de M1 / $\\theta 1$ : longitude de M1 </p>\n",
    "<p>$\\phi 2$ : lattitude de M2 / $\\theta 2$ : longitude de M2 </p>\n",
    "</br>\n",
    "<p> Une fonction Long_Arc_Gd_Cercle est implémentée avec les lattitudes et longitudes des 2 points M1 et M2 en paramètres d'entrée. Cette fonction fournira en sortie la distance parcourue selon la formule d'arc suivante : </p>\n",
    "</br>\n",
    "$$L\\tiny dist \\normalsize = R \\tiny Terre \\normalsize * \\alpha$$"
   ]
  },
  {
   "cell_type": "code",
   "execution_count": 106,
   "metadata": {},
   "outputs": [],
   "source": [
    "def Long_Arc_Gd_Cercle(Phi1, Theta1, Phi2, Theta2):\n",
    "    Rayon_Terre = 6370\n",
    "    Alpha = acos(abs(cos(Phi1)*cos(Phi2)*cos(abs(Theta1-Theta2)) + sin(Phi1)*sin(Phi2)))\n",
    "    return Rayon_Terre*Alpha"
   ]
  },
  {
   "cell_type": "markdown",
   "metadata": {},
   "source": [
    "### 6 - Calcul de la distance selon un trajet le long du parrallèle commun aux 2 points (loxodromie).\n",
    "</br>\n",
    "<p> Comme vu précédemment dans la résolution analytique du problème, nous utiliserons la formule ci-dessous pour évaluer la longueur de l'arc du parallèle séparant nos deux points de coordonnées.</p></br>\n",
    "$$\\beta=(\\theta 1 - \\theta 2)$$</br>\n",
    "$$R \\tiny TerreParallele \\normalsize = sin(\\phi1)*R \\tiny Terre \\normalsize$$\n",
    "<p> avec </p>\n",
    "<p>$\\phi 1$ : lattitude de M1 / $\\phi 2$ : lattitude de M2 / $\\theta 1 = \\theta 2$ : longitude de M1 ou de M2 </p> \n",
    "</br>\n",
    "<p> Une fonction Long_Arc_Parallele est implémentée avec les lattitudes des 2 points M1 et M2 en paramètres d'entrée. Cette fonction fournira en sortie la distance parcourue selon la formule d'arc suivante : </p>\n",
    "</br>\n",
    "$$L\\tiny dist \\normalsize = R \\tiny TerreParallele \\normalsize * \\beta$$"
   ]
  },
  {
   "cell_type": "code",
   "execution_count": 107,
   "metadata": {},
   "outputs": [],
   "source": [
    "def Long_Arc_Parallele(Phi1, Theta1, Phi2, Theta2):\n",
    "    Rayon_Terre = 6370\n",
    "    Rayon_Terre_Parallele = cos(Phi1)*Rayon_Terre\n",
    "    Beta = abs(Theta1-Theta2)\n",
    "    return Rayon_Terre_Parallele*Beta"
   ]
  },
  {
   "cell_type": "code",
   "execution_count": 108,
   "metadata": {},
   "outputs": [
    {
     "name": "stdout",
     "output_type": "stream",
     "text": [
      "La distance entre les 2 points,le long du Grand Cercle associé, est de : 6010 km\n"
     ]
    }
   ],
   "source": [
    "Distance_Sln_Gd_Cercle = Long_Arc_Gd_Cercle(M1.latt, M1.long, M2.latt, M2.long)\n",
    "print(\"La distance entre les 2 points,le long du Grand Cercle associé, est de :\",int(Distance_Sln_Gd_Cercle),\"km\")"
   ]
  },
  {
   "cell_type": "code",
   "execution_count": 109,
   "metadata": {},
   "outputs": [
    {
     "name": "stdout",
     "output_type": "stream",
     "text": [
      "La distance entre les 2 points, le long du Parallèle associé aux 2 points est de : 6431 km\n"
     ]
    }
   ],
   "source": [
    "Distance_Sln_Parallele = Long_Arc_Parallele(M1.latt, M1.long, M2.latt, M2.long)\n",
    "print(\"La distance entre les 2 points, le long du Parallèle associé aux 2 points est de :\",int(Distance_Sln_Parallele),\"km\")"
   ]
  },
  {
   "cell_type": "code",
   "execution_count": 110,
   "metadata": {},
   "outputs": [],
   "source": [
    "%matplotlib inline"
   ]
  },
  {
   "cell_type": "code",
   "execution_count": 111,
   "metadata": {},
   "outputs": [],
   "source": [
    "import matplotlib.pyplot as plt\n",
    "import numpy as np"
   ]
  },
  {
   "cell_type": "code",
   "execution_count": 116,
   "metadata": {
    "scrolled": false
   },
   "outputs": [
    {
     "name": "stdout",
     "output_type": "stream",
     "text": [
      "\n",
      "Liste des abscisses\n",
      "-------------------\n",
      "[  0.   5.  10.  15.  20.  25.  30.  35.  40.  45.  50.  55.  60.  65.\n",
      "  70.  75.  80.  85.  90.  95. 100. 105. 110. 115. 120. 125. 130. 135.\n",
      " 140. 145. 150. 155. 160. 165. 170. 175. 180.]\n",
      "\n",
      "\n",
      "Liste des ordonnées calculées lors d'un trajet le long du 50° parallèle\n",
      "-----------------------------------------------------------------------\n",
      "[0.0, 357.0, 715.0, 1072.0, 1429.0, 1787.0, 2144.0, 2501.0, 2858.0, 3216.0, 3573.0, 3930.0, 4288.0, 4645.0, 5002.0, 5360.0, 5717.0, 6074.0, 6431.0, 6789.0, 7146.0, 7503.0, 7861.0, 8218.0, 8575.0, 8933.0, 9290.0, 9647.0, 10004.0, 10362.0, 10719.0, 11076.0, 11434.0, 11791.0, 12148.0, 12506.0, 12863.0]\n",
      "\n",
      "\n",
      "Liste des ordonnées calculées lors d'un trajet le du Grand Cercle associé aux 2 points M1 & M2\n",
      "----------------------------------------------------------------------------------------------\n",
      "[0.0, 357.0, 714.0, 1070.0, 1425.0, 1778.0, 2129.0, 2478.0, 2824.0, 3166.0, 3505.0, 3839.0, 4168.0, 4492.0, 4810.0, 5122.0, 5426.0, 5723.0, 6011.0, 6290.0, 6559.0, 6817.0, 7064.0, 7299.0, 7521.0, 7729.0, 7922.0, 8100.0, 8262.0, 8407.0, 8534.0, 8642.0, 8732.0, 8803.0, 8853.0, 8884.0, 8894.0]\n",
      "\n"
     ]
    },
    {
     "data": {
      "text/plain": [
       "<function matplotlib.pyplot.show(*args, **kw)>"
      ]
     },
     "execution_count": 116,
     "metadata": {},
     "output_type": "execute_result"
    },
    {
     "data": {
      "image/png": "[encoded data removed]",
      "text/plain": [
       "<Figure size 1080x576 with 1 Axes>"
      ]
     },
     "metadata": {
      "needs_background": "light"
     },
     "output_type": "display_data"
    }
   ],
   "source": [
    "\"Définition dr rayon de la Terre, assimilé à une sphère\"\n",
    "Rayon_Terre = 6370\n",
    "\n",
    "\"Discrétisation des abscisses, d'un pas de 180/36=5°\"\n",
    "abscisses = np.linspace(0,180,37)\n",
    "\n",
    "\"Evaluation des ordonnées des deux possibilités de trajet (suivant le parallèle ou le Grand Cercle associé aux 2 points\"\n",
    "ordonnées1 = [round(Rayon_Terre*cos(M1.latt)*(x*np.pi/180),0) for x in abscisses]\n",
    "ordonnées2 = [round(Rayon_Terre*acos(cos(M1.latt)*cos(M2.latt)*cos(x*np.pi/180+0.0000001) + sin(M1.latt)*sin(M2.latt)),0) for x in abscisses]\n",
    "\n",
    "\"Affichage des tableaux de coordonnées\"\n",
    "print(\"\")\n",
    "print(\"Liste des abscisses\")\n",
    "print(\"-------------------\")\n",
    "print(abscisses)\n",
    "print(\"\")\n",
    "print(\"\")\n",
    "print(\"Liste des ordonnées calculées lors d'un trajet le long du 50° parallèle\")\n",
    "print(\"-----------------------------------------------------------------------\")\n",
    "print(ordonnées1)\n",
    "print(\"\")\n",
    "print(\"\")\n",
    "print(\"Liste des ordonnées calculées lors d'un trajet le du Grand Cercle associé aux 2 points M1 & M2\")\n",
    "print(\"----------------------------------------------------------------------------------------------\")\n",
    "print(ordonnées2)\n",
    "print(\"\")\n",
    "\n",
    "\"Dimensionnement de la zone de tracage\"\n",
    "plt.rcParams['figure.figsize'] = [15, 8]\n",
    "\n",
    "\"Définition des limites du graphique, en abscisse et en ordonnée\"\n",
    "plt.xlim(0,180)\n",
    "plt.ylim(0,13000)\n",
    "\n",
    "\"Traçage des 2 courbes et paramétrage de chacune d'elle\"\n",
    "plt.plot(abscisses,ordonnées1,\":\" 'r', linewidth=3, label=\"selon le 50e parallèle\")\n",
    "plt.plot(abscisses,ordonnées2,'b', linewidth=3, label=\"selon Grand Cercle\")\n",
    "\n",
    "\"Définition des titres des axes\"\n",
    "plt.xlabel(\"Angle séparant les 2 points, en degré\")\n",
    "plt.ylabel(\"Distance entre les 2 points, en km\")\n",
    "\n",
    "\"Définition du titre général et affichage de la légendeé\n",
    "plt.title(\"Comparaison des 2 trajets entre 2 points \\n situés sur le 5Oe Parallèle\")\n",
    "plt.legend(loc = \"lower right\")\n",
    "plt.grid()\n",
    "\n",
    "\"Repérage du trajet initial entre M1 et M2, définis en début d'exercices\"\n",
    "plt.plot([90,90],[90,13000], color ='k', linewidth=1, linestyle=\"--\")\n",
    "plt.text(88,12000,\"Trajet initial\",rotation=90)\n",
    "plt.text(92,12000,\"de M1(20°W) à M2(70°E)\",rotation=90)\n",
    "\n",
    "\"Affichage du graphique\"\n",
    "plt.show\n"
   ]
  },
  {
   "cell_type": "code",
   "execution_count": 117,
   "metadata": {},
   "outputs": [],
   "source": [
    "from mpl_toolkits import mplot3d"
   ]
  },
  {
   "cell_type": "code",
   "execution_count": 118,
   "metadata": {},
   "outputs": [
    {
     "ename": "SyntaxError",
     "evalue": "invalid character in identifier (<ipython-input-118-59314d103402>, line 5)",
     "output_type": "error",
     "traceback": [
      "\u001b[1;36m  File \u001b[1;32m\"<ipython-input-118-59314d103402>\"\u001b[1;36m, line \u001b[1;32m5\u001b[0m\n\u001b[1;33m    ax = plt.axes(projection=’3d’)\u001b[0m\n\u001b[1;37m                                ^\u001b[0m\n\u001b[1;31mSyntaxError\u001b[0m\u001b[1;31m:\u001b[0m invalid character in identifier\n"
     ]
    }
   ],
   "source": [
    "%matplotlib inline\n",
    "import numpy as np\n",
    "import matplotlib.pyplot as plt\n",
    "fig = plt.figure()\n",
    "ax = plt.axes(projection=’3d’)"
   ]
  },
  {
   "cell_type": "code",
   "execution_count": null,
   "metadata": {},
   "outputs": [],
   "source": []
  }
 ],
 "metadata": {
  "kernelspec": {
   "display_name": "Python 3",
   "language": "python",
   "name": "python3"
  },
  "language_info": {
   "codemirror_mode": {
    "name": "ipython",
    "version": 3
   },
   "file_extension": ".py",
   "mimetype": "text/x-python",
   "name": "python",
   "nbconvert_exporter": "python",
   "pygments_lexer": "ipython3",
   "version": "3.7.1"
  }
 },
 "nbformat": 4,
 "nbformat_minor": 2
}
